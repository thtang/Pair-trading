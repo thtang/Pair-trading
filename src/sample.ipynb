{
 "cells": [
  {
   "cell_type": "code",
   "execution_count": 92,
   "metadata": {},
   "outputs": [],
   "source": [
    "##### import the necessary modules and set chart style####\n",
    "import numpy as np\n",
    "import pandas as pd\n",
    "import seaborn as sns\n",
    "import matplotlib as mpl\n",
    "mpl.style.use('bmh')\n",
    "import matplotlib.pylab as plt\n",
    "from datetime import datetime\n",
    "import statsmodels.api as sm\n",
    "from pykalman import KalmanFilter\n",
    "from math import sqrt"
   ]
  },
  {
   "cell_type": "code",
   "execution_count": 93,
   "metadata": {},
   "outputs": [],
   "source": [
    "# load time series\n",
    "AUD = pd.read_csv(\"../data/AUD.csv\")\n",
    "EUR = pd.read_csv(\"../data/EUR.csv\")\n",
    "GBP = pd.read_csv(\"../data/GBP.csv\")\n",
    "NZD = pd.read_csv(\"../data/NZD.csv\")\n",
    "\n",
    "df = AUD.merge(EUR,on='Date').merge(GBP,on='Date').merge(NZD,on='Date')\n",
    "df.columns = [\"Date\", \"AUD\", \"EUR\", \"GBP\", \"NZD\"]\n",
    "prices_df = df[[\"AUD\", \"EUR\", \"GBP\", \"NZD\"]]\n",
    "prices_df = prices_df.set_index(df[\"Date\"])"
   ]
  },
  {
   "cell_type": "code",
   "execution_count": 94,
   "metadata": {},
   "outputs": [],
   "source": [
    "prices_df = prices_df.iloc[6192:,] # from 2009-01-01"
   ]
  },
  {
   "cell_type": "code",
   "execution_count": 95,
   "metadata": {},
   "outputs": [],
   "source": [
    "def find_cointegrated_pairs(dataframe, critial_level = 0.05):\n",
    "    n = dataframe.shape[1] # the length of dateframe\n",
    "    pvalue_matrix = np.ones((n, n)) # initialize the matrix of p\n",
    "    keys = dataframe.columns # get the column names\n",
    "    pairs = [] # initilize the list for cointegration\n",
    "    for i in range(n):\n",
    "        for j in range(i+1, n): # for j bigger than i\n",
    "            stock1 = dataframe[keys[i]] # obtain the price of \"stock1\"\n",
    "            stock2 = dataframe[keys[j]]# obtain the price of \"stock2\"\n",
    "            result = sm.tsa.stattools.coint(stock1, stock2) # get conintegration\n",
    "            pvalue = result[1] # get the pvalue\n",
    "            pvalue_matrix[i, j] = pvalue\n",
    "            if pvalue < critial_level: # if p-value less than the critical level\n",
    "                pairs.append((keys[i], keys[j], pvalue)) # record the contract with that p-value\n",
    "    return pvalue_matrix, pairs"
   ]
  },
  {
   "cell_type": "code",
   "execution_count": 96,
   "metadata": {},
   "outputs": [],
   "source": [
    "val_num = int(len(prices_df)*0.2)"
   ]
  },
  {
   "cell_type": "code",
   "execution_count": 97,
   "metadata": {},
   "outputs": [
    {
     "data": {
      "text/plain": [
       "290"
      ]
     },
     "execution_count": 97,
     "metadata": {},
     "output_type": "execute_result"
    }
   ],
   "source": [
    "val_num"
   ]
  },
  {
   "cell_type": "code",
   "execution_count": 98,
   "metadata": {},
   "outputs": [],
   "source": [
    "used_stocks = [\"AUD\", \"EUR\", \"GBP\", \"NZD\"]"
   ]
  },
  {
   "cell_type": "code",
   "execution_count": 99,
   "metadata": {},
   "outputs": [
    {
     "data": {
      "image/png": "[encoded data removed]",
      "text/plain": [
       "<Figure size 576x432 with 2 Axes>"
      ]
     },
     "metadata": {
      "needs_background": "light"
     },
     "output_type": "display_data"
    }
   ],
   "source": [
    "#run our dataframe (up to the split point) of ticker price data through our co-integration function and store results\n",
    "pvalue_matrix, pairs = find_cointegrated_pairs(prices_df[:-val_num])\n",
    "#convert our matrix of stored results into a DataFrame\n",
    "pvalue_matrix_df = pd.DataFrame(pvalue_matrix)\n",
    "#use Seaborn to plot a heatmap of our results matrix\n",
    "fig, ax = plt.subplots(figsize=(8,6))\n",
    "sns.heatmap(pvalue_matrix_df, xticklabels=used_stocks, yticklabels=used_stocks,ax=ax)\n",
    "plt.show()"
   ]
  },
  {
   "cell_type": "code",
   "execution_count": 100,
   "metadata": {},
   "outputs": [
    {
     "name": "stdout",
     "output_type": "stream",
     "text": [
      "Stock AUD and stock NZD has a co-integration score of 0.0378\n"
     ]
    }
   ],
   "source": [
    "for pair in pairs:\n",
    "    print(\"Stock {} and stock {} has a co-integration score of {}\".format(pair[0],pair[1],round(pair[2],4)))"
   ]
  },
  {
   "cell_type": "code",
   "execution_count": 101,
   "metadata": {},
   "outputs": [],
   "source": [
    "def KalmanFilterAverage(x):\n",
    "  # Construct a Kalman filter\n",
    "    kf = KalmanFilter(transition_matrices = [1],\n",
    "    observation_matrices = [1],\n",
    "    initial_state_mean = 0,\n",
    "    initial_state_covariance = 1,\n",
    "    observation_covariance=1,\n",
    "    transition_covariance=.01)\n",
    "  # Use the observed values of the price to get a rolling mean\n",
    "    state_means, _ = kf.filter(x.values)\n",
    "    state_means = pd.Series(state_means.flatten(), index=x.index)\n",
    "    return state_means\n",
    "# Kalman filter regression\n",
    "def KalmanFilterRegression(x,y):\n",
    "    delta = 1e-3\n",
    "    trans_cov = delta / (1 - delta) * np.eye(2) # How much random walk wiggles\n",
    "    obs_mat = np.expand_dims(np.vstack([[x], [np.ones(len(x))]]).T, axis=1)\n",
    "    kf = KalmanFilter(n_dim_obs=1, n_dim_state=2, # y is 1-dimensional, (alpha, beta) is 2-dimensional\n",
    "    initial_state_mean=[0,0],\n",
    "    initial_state_covariance=np.ones((2, 2)),\n",
    "    transition_matrices=np.eye(2),\n",
    "    observation_matrices=obs_mat,\n",
    "    observation_covariance=2,\n",
    "    transition_covariance=trans_cov)\n",
    "    # Use the observations y to get running estimates and errors for the state parameters\n",
    "    state_means, state_covs = kf.filter(y.values)\n",
    "    return state_means\n",
    "def half_life(spread):\n",
    "    spread_lag = spread.shift(1)\n",
    "    spread_lag.iloc[0] = spread_lag.iloc[1]\n",
    "    spread_ret = spread - spread_lag\n",
    "    spread_ret.iloc[0] = spread_ret.iloc[1]\n",
    "    spread_lag2 = sm.add_constant(spread_lag)\n",
    "    model = sm.OLS(spread_ret,spread_lag2)\n",
    "    res = model.fit()\n",
    "    halflife = int(round(-np.log(2) / res.params[1],0))\n",
    "    if halflife <= 0:\n",
    "        halflife = 1\n",
    "    return halflife"
   ]
  },
  {
   "cell_type": "code",
   "execution_count": 118,
   "metadata": {},
   "outputs": [],
   "source": [
    "def backtest(df,s1, s2):\n",
    "    #############################################################\n",
    "    # INPUT:\n",
    "    # DataFrame of prices\n",
    "    # s1: the symbol of contract one\n",
    "    # s2: the symbol of contract two\n",
    "    # x: the price series of contract one\n",
    "    # y: the price series of contract two\n",
    "    # OUTPUT:\n",
    "    # df1['cum rets']: cumulative returns in pandas data frame\n",
    "    # sharpe: Sharpe ratio\n",
    "    # CAGR: Compound Annual Growth Rate\n",
    "    x = df[s1]\n",
    "    y = df[s2]\n",
    "    # run regression (including Kalman Filter) to find hedge ratio and then create spread series\n",
    "    df1 = pd.DataFrame({'y':y,'x':x})\n",
    "    df1.index = pd.to_datetime(df1.index, unit=\"D\")\n",
    "    state_means = KalmanFilterRegression(KalmanFilterAverage(x),KalmanFilterAverage(y))\n",
    "    df1['hr'] = - state_means[:,0]\n",
    "    df1['spread'] = df1.y + (df1.x * df1.hr)\n",
    "    # calculate half life\n",
    "    halflife = half_life(df1['spread'])\n",
    "    # calculate z-score with window = half life period\n",
    "    meanSpread = df1.spread.rolling(window=halflife).mean()\n",
    "    stdSpread = df1.spread.rolling(window=halflife).std()\n",
    "    print(meanSpread)\n",
    "    df1['zScore'] = (df1.spread-meanSpread)/stdSpread\n",
    "    ##############################################################\n",
    "    # trading logic\n",
    "    entryZscore = 0.75\n",
    "    exitZscore = 0\n",
    "    #set up num units long\n",
    "    df1['long entry'] = ((df1.zScore < - entryZscore) & ( df1.zScore.shift(1) > - entryZscore))\n",
    "    df1['long exit'] = ((df1.zScore > - exitZscore) & (df1.zScore.shift(1) < - exitZscore))\n",
    "    df1['num units long'] = np.nan \n",
    "    df1.loc[df1['long entry'],'num units long'] = 1 \n",
    "    df1.loc[df1['long exit'],'num units long'] = 0 \n",
    "    df1['num units long'][0] = 0 \n",
    "    df1['num units long'] = df1['num units long'].fillna(method='pad') \n",
    "    #set up num units short \n",
    "    df1['short entry'] = ((df1.zScore > entryZscore) & ( df1.zScore.shift(1) < entryZscore))\n",
    "    df1['short exit'] = ((df1.zScore < exitZscore) & (df1.zScore.shift(1) > exitZscore))\n",
    "    df1.loc[df1['short entry'],'num units short'] = -1\n",
    "    df1.loc[df1['short exit'],'num units short'] = 0\n",
    "    df1['num units short'][0] = 0\n",
    "    df1['num units short'] = df1['num units short'].fillna(method='pad')\n",
    "    df1['numUnits'] = df1['num units long'] + df1['num units short']\n",
    "    df1['spread pct ch'] = (df1['spread'] - df1['spread'].shift(1)) / ((df1['x'] * abs(df1['hr'])) + df1['y'])\n",
    "    df1['port rets'] = df1['spread pct ch'] * df1['numUnits'].shift(1)\n",
    "    df1['cum rets'] = df1['port rets'].cumsum()\n",
    "    df1['cum rets'] = df1['cum rets'] + 1\n",
    "    ##############################################################\n",
    "    try:\n",
    "        sharpe = ((df1['port rets'].mean() / df1['port rets'].std()) * sqrt(252))\n",
    "    except ZeroDivisionError:\n",
    "        sharpe = 0.0\n",
    "    ##############################################################\n",
    "    start_val = 1\n",
    "    end_val = df1['cum rets'].iat[-1]\n",
    "    start_date = df1.iloc[0].name\n",
    "    end_date = df1.iloc[-1].name\n",
    "    days = (end_date - start_date).days\n",
    "    CAGR = round(((float(end_val) / float(start_val)) ** (252.0/days)) - 1,4)\n",
    "    df1[s1+ \" \"+s2] = df1['cum rets']\n",
    "    return df1[s1+\" \"+s2], sharpe, CAGR"
   ]
  },
  {
   "cell_type": "code",
   "execution_count": 119,
   "metadata": {},
   "outputs": [
    {
     "name": "stdout",
     "output_type": "stream",
     "text": [
      "Date\n",
      "2088-06-21         NaN\n",
      "2088-06-22         NaN\n",
      "2088-06-23         NaN\n",
      "2088-06-26    0.540718\n",
      "2088-06-27    0.511487\n",
      "2088-06-28    0.490997\n",
      "2088-06-29    0.474656\n",
      "2088-06-30    0.461837\n",
      "2088-07-03    0.450875\n",
      "2088-07-04    0.443530\n",
      "2088-07-05    0.438555\n",
      "2088-07-06    0.435218\n",
      "2088-07-07    0.434213\n",
      "2088-07-10    0.432747\n",
      "2088-07-11    0.431159\n",
      "2088-07-12    0.428324\n",
      "2088-07-13    0.425214\n",
      "2088-07-14    0.421518\n",
      "2088-07-17    0.418618\n",
      "2088-07-18    0.417196\n",
      "2088-07-19    0.416286\n",
      "2088-07-20    0.415009\n",
      "2088-07-21    0.414814\n",
      "2088-07-24    0.414013\n",
      "2088-07-25    0.412770\n",
      "2088-07-26    0.413289\n",
      "2088-07-27    0.412277\n",
      "2088-07-28    0.411343\n",
      "2088-07-31    0.411523\n",
      "2088-08-01    0.410756\n",
      "                ...   \n",
      "2089-06-20    0.384857\n",
      "2089-06-21    0.386869\n",
      "2089-06-22    0.388497\n",
      "2089-06-25    0.390028\n",
      "2089-06-26    0.392083\n",
      "2089-06-27    0.393969\n",
      "2089-06-28    0.396034\n",
      "2089-06-29    0.397952\n",
      "2089-07-02    0.398635\n",
      "2089-07-03    0.398327\n",
      "2089-07-04    0.398226\n",
      "2089-07-05    0.397473\n",
      "2089-07-06    0.396210\n",
      "2089-07-09    0.395081\n",
      "2089-07-10    0.393620\n",
      "2089-07-11    0.393282\n",
      "2089-07-12    0.394215\n",
      "2089-07-13    0.395443\n",
      "2089-07-16    0.397166\n",
      "2089-07-17    0.397900\n",
      "2089-07-18    0.399446\n",
      "2089-07-19    0.400784\n",
      "2089-07-20    0.401819\n",
      "2089-07-23    0.403337\n",
      "2089-07-24    0.402524\n",
      "2089-07-25    0.401979\n",
      "2089-07-26    0.400172\n",
      "2089-07-27    0.397946\n",
      "2089-07-30    0.396856\n",
      "2089-07-31    0.395368\n",
      "Name: spread, Length: 290, dtype: float64\n"
     ]
    },
    {
     "name": "stderr",
     "output_type": "stream",
     "text": [
      "C:\\ProgramData\\Anaconda3\\lib\\site-packages\\ipykernel_launcher.py:38: SettingWithCopyWarning: \n",
      "A value is trying to be set on a copy of a slice from a DataFrame\n",
      "\n",
      "See the caveats in the documentation: http://pandas.pydata.org/pandas-docs/stable/indexing.html#indexing-view-versus-copy\n",
      "C:\\ProgramData\\Anaconda3\\lib\\site-packages\\ipykernel_launcher.py:45: SettingWithCopyWarning: \n",
      "A value is trying to be set on a copy of a slice from a DataFrame\n",
      "\n",
      "See the caveats in the documentation: http://pandas.pydata.org/pandas-docs/stable/indexing.html#indexing-view-versus-copy\n"
     ]
    },
    {
     "name": "stdout",
     "output_type": "stream",
     "text": [
      "The pair AUD and NZD produced a Sharpe Ratio of -0.62 and a CAGR of -0.0172\n"
     ]
    },
    {
     "data": {
      "image/png": "[encoded data removed]",
      "text/plain": [
       "<Figure size 576x432 with 1 Axes>"
      ]
     },
     "metadata": {
      "needs_background": "light"
     },
     "output_type": "display_data"
    }
   ],
   "source": [
    "results = []\n",
    "for pair in pairs:\n",
    "    rets, sharpe,  CAGR = backtest(prices_df[-val_num:],pair[0],pair[1])\n",
    "    results.append(rets)\n",
    "    print(\"The pair {} and {} produced a Sharpe Ratio of {} and a CAGR of {}\".format(pair[0],pair[1],round(sharpe,2),round(CAGR,4)))\n",
    "    rets.plot(figsize=(8,6),legend=True)"
   ]
  },
  {
   "cell_type": "code",
   "execution_count": null,
   "metadata": {},
   "outputs": [],
   "source": []
  }
 ],
 "metadata": {
  "kernelspec": {
   "display_name": "Python 3",
   "language": "python",
   "name": "python3"
  },
  "language_info": {
   "codemirror_mode": {
    "name": "ipython",
    "version": 3
   },
   "file_extension": ".py",
   "mimetype": "text/x-python",
   "name": "python",
   "nbconvert_exporter": "python",
   "pygments_lexer": "ipython3",
   "version": "3.7.1"
  }
 },
 "nbformat": 4,
 "nbformat_minor": 2
}
